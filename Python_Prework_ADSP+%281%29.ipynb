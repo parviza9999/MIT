{
  "cells": [
    {
      "cell_type": "markdown",
      "metadata": {
        "id": "view-in-github",
        "colab_type": "text"
      },
      "source": [
        "<a href=\"https://colab.research.google.com/github/parviza9999/MIT/blob/main/Python_Prework_ADSP%2B%25281%2529.ipynb\" target=\"_parent\"><img src=\"https://colab.research.google.com/assets/colab-badge.svg\" alt=\"Open In Colab\"/></a>"
      ]
    },
    {
      "cell_type": "markdown",
      "metadata": {
        "ExecuteTime": {
          "end_time": "2022-01-13T07:49:33.739251Z",
          "start_time": "2022-01-13T07:49:33.722307Z"
        },
        "id": "lju8JFWw_T5d"
      },
      "source": [
        "\n",
        "<img src=\"https://mma.prnewswire.com/media/1458111/Great_Learning_Logo.jpg?p=facebook\" width=\"200\" height=\"100\"/>\n"
      ]
    },
    {
      "cell_type": "markdown",
      "metadata": {
        "id": "e1wR81288Dam"
      },
      "source": [
        "<center><div style=style=\"font-size: 45PX\"> <font color=BLUE><B>GET STARTED WITH PYTHON</B></FONT></DIV></center>"
      ]
    },
    {
      "cell_type": "markdown",
      "metadata": {
        "id": "--A5_c2VWVCb"
      },
      "source": [
        "<center><img src=\"https://wallpapercave.com/wp/wp3105542.jpg\" width=\"1000\" height=\"600\"></center>"
      ]
    },
    {
      "cell_type": "markdown",
      "metadata": {
        "id": "xE_eAveW_T5k"
      },
      "source": [
        "<H1 align='left'><font color='blue'><font size=\"\">Session Agenda</font></H1>"
      ]
    },
    {
      "cell_type": "markdown",
      "metadata": {
        "id": "_z44-nUC_T5l"
      },
      "source": [
        "<font size='4'>\n",
        "<li> Printing Statements<br>\n",
        "<li> Introduction to variables<br>\n",
        "\n",
        "<li> Data Types: String, Integers and Float<br>\n",
        "<li> Data Structures: List, Tuples and Dictionary<br>\n",
        "\n",
        "<li>Introduction to conditional statements: if,else<br>\n",
        "<li>Introduction to Loops: for loop<br>\n"
      ]
    },
    {
      "cell_type": "markdown",
      "metadata": {
        "id": "L7VCMSFr_T5l"
      },
      "source": [
        "<H1 align='left'><font color='Blue'><font size=\"\">Introduction</font></H1>"
      ]
    },
    {
      "cell_type": "markdown",
      "metadata": {
        "id": "Vck6kdMfOuG1"
      },
      "source": [
        "![](https://drive.google.com/uc?export=view&id=1S-AgaBCMAi_3_Uv0JdP8PjtPTOZQ7U-M)\n",
        "\n",
        "<!-- <img src= \"https://image.shutterstock.com/image-photo/automobile-assembly-line-production-260nw-733812256.jpg\" width=\"600\" height=\"600\"> -->\n",
        "\n",
        "<!-- <center><img src='https://drive.google.com/uc?export=view&id=1S-AgaBCMAi_3_Uv0JdP8PjtPTOZQ7U-M'></center> -->\n",
        "\n",
        "<!-- <p align=\"right\">\n",
        "  <img width=\"400\" height=\"400\" src=\"https://drive.google.com/uc?export=view&id=1S-AgaBCMAi_3_Uv0JdP8PjtPTOZQ7U-M\" alt=\"Material Bread logo\">\n",
        "</p> -->"
      ]
    },
    {
      "cell_type": "markdown",
      "metadata": {
        "id": "3LVeMQZN_T5m"
      },
      "source": [
        "<font size=\"3\">Automobiles are moving towards global production networks. With variability in automobile models, there is a lot of uncertainty in the demand. It requires better visibility towards car performance for investments as well as operation and to avoid the risk of inventory stock-outs.<br>\n",
        "<br>\n",
        "Cars Sons Ltd. is an automobile company incorportated on February, 1996. The company  offers a full range of cars from entry-level to stylish Hatchback along with Sedans, SUVs and MUVs. The company is engaged in the business of manufacturing, purchase and sale of motor vehicles and spare parts (automobiles).<br>\n",
        "<br>\n",
        "The company has booked a turnover of around $12.5mn last year. The company is looking forward to expanding its range of products and services and will introduce new types of the automobile in the market.<br>\n",
        "<br>\n",
        "You have been hired as a Data Scientist in Cars Sons Ltd. The data for the company products have been provided and are required to create structured data which includes the various attributes of the product along with the sales figures.\n",
        "</font>\n"
      ]
    },
    {
      "cell_type": "markdown",
      "metadata": {
        "id": "6x5LKyUx_T5t"
      },
      "source": [
        "# <font color='Blue'>Print Statements"
      ]
    },
    {
      "cell_type": "markdown",
      "metadata": {
        "id": "lSRSVB6C6n24"
      },
      "source": [
        "<font color='blue'>*To start with, let's print some details of the company*"
      ]
    },
    {
      "cell_type": "code",
      "execution_count": 1,
      "metadata": {
        "ExecuteTime": {
          "end_time": "2022-01-14T19:00:04.149381Z",
          "start_time": "2022-01-14T19:00:04.142401Z"
        },
        "colab": {
          "base_uri": "https://localhost:8080/"
        },
        "id": "HyVC2Pj4_T5p",
        "outputId": "adf6bcdc-406f-46fd-b3d9-c34d522937da"
      },
      "outputs": [
        {
          "output_type": "stream",
          "name": "stdout",
          "text": [
            "The name of the company is Cars Sons Ltd.\n"
          ]
        }
      ],
      "source": [
        "print('The name of the company is Cars Sons Ltd.')"
      ]
    },
    {
      "cell_type": "markdown",
      "metadata": {
        "ExecuteTime": {
          "end_time": "2022-01-14T17:12:08.161735Z",
          "start_time": "2022-01-14T17:12:08.140747Z"
        },
        "id": "yFA0urCl_T5t"
      },
      "source": [
        "**The print() function prints the specified message to the screen or other standard output device.**\n"
      ]
    },
    {
      "cell_type": "code",
      "execution_count": 2,
      "metadata": {
        "ExecuteTime": {
          "end_time": "2022-01-14T19:00:04.165339Z",
          "start_time": "2022-01-14T19:00:04.152373Z"
        },
        "colab": {
          "base_uri": "https://localhost:8080/"
        },
        "id": "CRkj8YNM_T5r",
        "outputId": "6956351c-ae93-4373-b377-c5720af163a7"
      },
      "outputs": [
        {
          "output_type": "stream",
          "name": "stdout",
          "text": [
            "The year the company was established is 1996\n"
          ]
        }
      ],
      "source": [
        "print('The year the company was established is',1996)"
      ]
    },
    {
      "cell_type": "code",
      "execution_count": 3,
      "metadata": {
        "ExecuteTime": {
          "end_time": "2022-01-14T19:00:04.181299Z",
          "start_time": "2022-01-14T19:00:04.169329Z"
        },
        "colab": {
          "base_uri": "https://localhost:8080/"
        },
        "id": "wfZecByX_T5s",
        "outputId": "1671f28e-cbe6-4f3c-bc32-62a51f597271"
      },
      "outputs": [
        {
          "output_type": "stream",
          "name": "stdout",
          "text": [
            "Total turnover of the company this year in Million $ is 12.5\n"
          ]
        }
      ],
      "source": [
        "print('Total turnover of the company this year in Million $ is',12.5)"
      ]
    },
    {
      "cell_type": "code",
      "execution_count": 7,
      "metadata": {
        "colab": {
          "base_uri": "https://localhost:8080/",
          "height": 165
        },
        "id": "U7M-3VI38Dat",
        "outputId": "73c7ef31-cd75-4521-f099-2ef4b9c0c661"
      },
      "outputs": [
        {
          "output_type": "error",
          "ename": "NameError",
          "evalue": "ignored",
          "traceback": [
            "\u001b[0;31m---------------------------------------------------------------------------\u001b[0m",
            "\u001b[0;31mNameError\u001b[0m                                 Traceback (most recent call last)",
            "\u001b[0;32m<ipython-input-7-d17dad2c4d02>\u001b[0m in \u001b[0;36m<cell line: 1>\u001b[0;34m()\u001b[0m\n\u001b[0;32m----> 1\u001b[0;31m \u001b[0mPrint\u001b[0m\u001b[0;34m(\u001b[0m\u001b[0;34m\"I love working on python\"\u001b[0m\u001b[0;34m)\u001b[0m\u001b[0;34m\u001b[0m\u001b[0;34m\u001b[0m\u001b[0m\n\u001b[0m",
            "\u001b[0;31mNameError\u001b[0m: name 'Print' is not defined"
          ]
        }
      ],
      "source": [
        "Print(\"I love working on python\")"
      ]
    },
    {
      "cell_type": "markdown",
      "metadata": {
        "id": "2fGwNlNU8Dau"
      },
      "source": [
        "<div class=\"alert alert-block alert-danger\"> Python is case-sensitive. So, print() and Print() are different functions.</div>\n",
        "\n",
        "Let's correct the code and run it again."
      ]
    },
    {
      "cell_type": "code",
      "execution_count": 6,
      "metadata": {
        "colab": {
          "base_uri": "https://localhost:8080/"
        },
        "id": "Aij626qs8Dau",
        "outputId": "8d977fc0-4a14-4bc7-c990-570af94d9479"
      },
      "outputs": [
        {
          "output_type": "stream",
          "name": "stdout",
          "text": [
            "I love working on python\n"
          ]
        }
      ],
      "source": [
        "print(\"I love working on python\")"
      ]
    },
    {
      "cell_type": "markdown",
      "metadata": {
        "id": "pJ-npkKlWzYp"
      },
      "source": [
        "### 🤓<font color='Blue'> *Your turn to code!* </font>"
      ]
    },
    {
      "cell_type": "code",
      "execution_count": 8,
      "metadata": {
        "id": "By_OAlvkW2LV",
        "colab": {
          "base_uri": "https://localhost:8080/"
        },
        "outputId": "d8e7a59e-68dc-4e17-d49d-723cc3420093"
      },
      "outputs": [
        {
          "output_type": "stream",
          "name": "stdout",
          "text": [
            "My name is Parviz I have DS experience of years 4 I like to code\n"
          ]
        }
      ],
      "source": [
        "# Print your details such as name, years of experience, etc. in the same way as shown above\n",
        "print('My name is Parviz', 'I have DS experience of years', 4, 'I like to code' )\n"
      ]
    },
    {
      "cell_type": "markdown",
      "metadata": {
        "id": "FYJoe9NE_T5s"
      },
      "source": [
        " **Since these values are not stored, they cannot be used in future. Therefore, we need to store them in some objects, which are known as<br>\n",
        "    *VARIABLES*.**"
      ]
    },
    {
      "cell_type": "markdown",
      "metadata": {
        "id": "tx2K-QXUcghM"
      },
      "source": [
        "# <font color='Blue'>Variables"
      ]
    },
    {
      "cell_type": "markdown",
      "metadata": {
        "id": "Tb9XtHItYBzi"
      },
      "source": [
        "<font color='blue'>*Let's create a variable and store the name of the company in it.*"
      ]
    },
    {
      "cell_type": "code",
      "execution_count": 9,
      "metadata": {
        "ExecuteTime": {
          "end_time": "2022-01-14T19:00:04.245127Z",
          "start_time": "2022-01-14T19:00:04.239141Z"
        },
        "colab": {
          "base_uri": "https://localhost:8080/"
        },
        "id": "uuuTo664A72A",
        "outputId": "a78f81e7-59d5-4e79-c87e-cf3b34444271"
      },
      "outputs": [
        {
          "output_type": "stream",
          "name": "stdout",
          "text": [
            "The name of the company is Cars Sons Ltd.\n"
          ]
        }
      ],
      "source": [
        "company_name = \"Cars Sons Ltd.\" #variable is assigned and a value is stored in the variable\n",
        "print('The name of the company is',company_name) #to print a statement to the screen, print command is used"
      ]
    },
    {
      "cell_type": "markdown",
      "metadata": {
        "ExecuteTime": {
          "end_time": "2022-01-14T17:12:08.161735Z",
          "start_time": "2022-01-14T17:12:08.140747Z"
        },
        "id": "pipQYHlkcv8Y"
      },
      "source": [
        "**Variables are containers for storing any data values. A variable is created the moment you first assign a value to it.**\n",
        "* A variable name must start with a letter or the underscore character\n",
        "* A variable name cannot start with a number\n",
        "* A variable name can only contain alpha-numeric characters and underscores (A-z, 0-9, and _)\n",
        "* Variable names are case-sensitive (age, Age and AGE are three different variables)"
      ]
    },
    {
      "cell_type": "markdown",
      "metadata": {
        "id": "FS_ELMPJi6ys"
      },
      "source": [
        "<font color='blue'>*Similarly we can store the year the company established in another variable*"
      ]
    },
    {
      "cell_type": "code",
      "execution_count": 10,
      "metadata": {
        "ExecuteTime": {
          "end_time": "2022-01-14T19:00:04.291998Z",
          "start_time": "2022-01-14T19:00:04.274047Z"
        },
        "colab": {
          "base_uri": "https://localhost:8080/"
        },
        "id": "oPmugaNOBQ8N",
        "outputId": "8a17e679-1996-4801-e467-f114d6062320"
      },
      "outputs": [
        {
          "output_type": "stream",
          "name": "stdout",
          "text": [
            "The year the company established is 1996\n"
          ]
        }
      ],
      "source": [
        "year_started = 1996\n",
        "print('The year the company established is',year_started)"
      ]
    },
    {
      "cell_type": "markdown",
      "metadata": {
        "id": "hULE2ByadmYi"
      },
      "source": [
        "### 🤓<font color='Blue'> *Your turn to code!* </font>"
      ]
    },
    {
      "cell_type": "code",
      "execution_count": 14,
      "metadata": {
        "ExecuteTime": {
          "end_time": "2022-01-14T19:00:04.307958Z",
          "start_time": "2022-01-14T19:00:04.300977Z"
        },
        "id": "6z4c71uLBjzT",
        "colab": {
          "base_uri": "https://localhost:8080/"
        },
        "outputId": "5be5726a-899c-48c5-a991-b9c17d55a1fd"
      },
      "outputs": [
        {
          "output_type": "stream",
          "name": "stdout",
          "text": [
            "Annual turn over of Car Son Ltd. in Million $ is -12.5\n"
          ]
        }
      ],
      "source": [
        "# Create a variable to store the Total turnover of the company for this year and print the results\n",
        "carson_turnover = 12.5\n",
        "print('Annual turn over of Car Son Ltd. in Million $ is', carson_turnover)\n"
      ]
    },
    {
      "cell_type": "markdown",
      "metadata": {
        "id": "g7-wMh0j_T5y"
      },
      "source": [
        "# <font color='Blue'> Datatypes"
      ]
    },
    {
      "cell_type": "code",
      "execution_count": 13,
      "metadata": {
        "colab": {
          "base_uri": "https://localhost:8080/"
        },
        "id": "XF0GR3LGeF_w",
        "outputId": "7a7f5ef9-f839-4ac1-ef5f-b644e8dcf52f"
      },
      "outputs": [
        {
          "output_type": "stream",
          "name": "stdout",
          "text": [
            "The type of variables in company name is <class 'str'>\n",
            "The type of variables in company name is <class 'float'>\n"
          ]
        }
      ],
      "source": [
        "# we can also check the type of variables using type() function\n",
        "print('The type of variables in company name is',type(company_name))\n",
        "print('The type of variables in company name is',type(carson_turnover))"
      ]
    },
    {
      "cell_type": "markdown",
      "metadata": {
        "id": "ZPkqs4ou_T5z"
      },
      "source": [
        "**Data types are the classification or categorization of data items. It represents the kind of value that tells what operations can be performed on a particular data. It can be an integer variable, a string variable, etc.**"
      ]
    },
    {
      "cell_type": "markdown",
      "metadata": {
        "ExecuteTime": {
          "end_time": "2022-01-11T18:10:06.329373Z",
          "start_time": "2022-01-11T18:10:06.318400Z"
        },
        "id": "KbZujs1Z6n28"
      },
      "source": [
        "**Any character which is placed between quotation marks is known as a *String*. Quotation marks can be single or double-quotes.**<br>\n",
        "For example in the above command characters 'The name of the company' is under quotation marks and will be considered as *String*. The value 'Cars Sons Ltd.' stored in the variable named company_name is also a *String* because it is written within quotation marks"
      ]
    },
    {
      "cell_type": "markdown",
      "metadata": {
        "id": "ACotbw5F_T5w"
      },
      "source": [
        "**Integer - Int, or integer, is a whole number, positive or negative, without decimals, of unlimited length.**<br>\n",
        "**Float - float, or \"floating-point number\" is a number, positive or negative, containing one\n",
        "or more decimals. Float can also be scientific numbers with an \"e\" to indicate the power\n",
        "of 10.**"
      ]
    },
    {
      "cell_type": "markdown",
      "metadata": {
        "id": "3XfDtv4y6n2-"
      },
      "source": [
        "In the above cells, we have printed different values of different data types.\n",
        "\n",
        "There are various data types in Python, such as:<br>\n",
        "1. Numeric - This is further divided into:\n",
        "\n",
        "    (a) Integer (int) - 1996    \n",
        "    (b) Float (float) - 12.5\n",
        "    \n",
        "\n",
        "2. String (str) - 'Cars Sons Ltd'</font>\n"
      ]
    },
    {
      "cell_type": "code",
      "execution_count": 15,
      "metadata": {
        "ExecuteTime": {
          "end_time": "2022-01-14T19:00:04.419695Z",
          "start_time": "2022-01-14T19:00:04.399768Z"
        },
        "colab": {
          "base_uri": "https://localhost:8080/"
        },
        "id": "CTDAZAJRBo0C",
        "outputId": "c11bcf7b-624b-4b8c-b261-d8fe40720822"
      },
      "outputs": [
        {
          "output_type": "stream",
          "name": "stdout",
          "text": [
            "The type of variables in year started is <class 'int'>\n"
          ]
        }
      ],
      "source": [
        "print('The type of variables in year started is',type(year_started))\n"
      ]
    },
    {
      "cell_type": "markdown",
      "metadata": {
        "id": "7kGmhoG9_T5z"
      },
      "source": [
        "### 🤓 <font color='Blue'> *Your turn to code!* </font>"
      ]
    },
    {
      "cell_type": "code",
      "execution_count": 16,
      "metadata": {
        "ExecuteTime": {
          "end_time": "2022-01-14T19:00:04.435617Z",
          "start_time": "2022-01-14T19:00:04.428670Z"
        },
        "id": "vpplX_Nt_T5z",
        "colab": {
          "base_uri": "https://localhost:8080/"
        },
        "outputId": "a316b516-f23a-4792-fdf7-4536a7fff027"
      },
      "outputs": [
        {
          "output_type": "stream",
          "name": "stdout",
          "text": [
            "The type of variables in company name is <class 'float'>\n"
          ]
        }
      ],
      "source": [
        "# Check the data type of the variable you created above for the Total Turnover of the company\n",
        "print('The type of variables in company name is',type(carson_turnover))\n"
      ]
    },
    {
      "cell_type": "markdown",
      "metadata": {
        "id": "UEu-rjItLNrK"
      },
      "source": [
        "# <font color='Blue'> Basic Operators\n"
      ]
    },
    {
      "cell_type": "markdown",
      "metadata": {
        "id": "XHUj0Jya6n3C"
      },
      "source": [
        "<font color='blue'>*Sales team has provided you with the details of the cars including the prices of each type of car.They have received an order of 10 Sedan cars and they need to evaluate total sales for this order.<br>To perform this, we can use Basic Arithmetic operators in Python*"
      ]
    },
    {
      "cell_type": "markdown",
      "metadata": {
        "id": "t5HUJwx1ju7z"
      },
      "source": [
        "**Python allows you to perform various operation on variables and values. You can also manipulate the values present in the variables**"
      ]
    },
    {
      "cell_type": "code",
      "execution_count": 17,
      "metadata": {
        "ExecuteTime": {
          "end_time": "2022-01-14T19:00:04.514407Z",
          "start_time": "2022-01-14T19:00:04.502436Z"
        },
        "colab": {
          "base_uri": "https://localhost:8080/"
        },
        "id": "Xo4DfxUQLQlh",
        "outputId": "70db929c-9d57-4d53-fa7d-5a67251bc6df"
      },
      "outputs": [
        {
          "output_type": "stream",
          "name": "stdout",
          "text": [
            "Price of 1 Sedan Cars in Million $ is 0.2\n",
            "Price of 2 Sedan Cars in Million $ is 0.4\n"
          ]
        }
      ],
      "source": [
        "# Suppose the price of one sedan car is $0.2mn\n",
        "price_sedan = 0.2 # variable to store the price of one Sedan car\n",
        "print('Price of 1 Sedan Cars in Million $ is',price_sedan)\n",
        "price_updated = price_sedan + price_sedan #By using Addition operator we have calculated the price of 2 sedan cars\n",
        "print('Price of 2 Sedan Cars in Million $ is',price_updated)"
      ]
    },
    {
      "cell_type": "markdown",
      "metadata": {
        "id": "EjlfemM0GgyS"
      },
      "source": [
        "**Python provides various operators for performing different types of caluclation on variables and values.<br> Below are some of the operators which are commonly used in python operations:**\n",
        "\n",
        "|Operator|Symbol in Python|Description|\n",
        "|---|---|---|\n",
        "|Addition| +|Adds values on either side of the operator|\n",
        "|Subtraction|-|Subtracts right hand operand from left hand operand|\n",
        "| Multiplication| *|Multiplies values on either side of the operator\n",
        "| Division| /|Divides left hand operand by right hand operand\n",
        "|Exponent|**|Performs exponential (power) calculation on operators\n",
        "|Modulus|%|Divides left hand operand by right hand operand and returns remainder"
      ]
    },
    {
      "cell_type": "markdown",
      "metadata": {
        "id": "id5tZgoB6n3C"
      },
      "source": [
        "**Let's get our hands dirty on some operators...**"
      ]
    },
    {
      "cell_type": "code",
      "execution_count": 18,
      "metadata": {
        "ExecuteTime": {
          "end_time": "2022-01-14T19:00:04.530363Z",
          "start_time": "2022-01-14T19:00:04.517397Z"
        },
        "colab": {
          "base_uri": "https://localhost:8080/"
        },
        "id": "kgbWk7QX6n3E",
        "outputId": "587bec5c-e936-4d28-903f-456a882530a8"
      },
      "outputs": [
        {
          "output_type": "stream",
          "name": "stdout",
          "text": [
            "Price of 10 Sedan Cars in Million $ is 2.0\n"
          ]
        }
      ],
      "source": [
        "price_final = price_sedan * 10 #By using Multiplication operator we have calculated the sales for the final order of 10 cars\n",
        "print('Price of 10 Sedan Cars in Million $ is',price_final)"
      ]
    },
    {
      "cell_type": "markdown",
      "metadata": {
        "id": "NrY1CMCaZumj"
      },
      "source": [
        "**Let's try to combine multiple operators...**"
      ]
    },
    {
      "cell_type": "markdown",
      "metadata": {
        "id": "0stxMrxyZ2Up"
      },
      "source": [
        "<font color='blue'>*One of the most critical indicators automotive businesses need to be aware of is downtime. You have been provided with some details from the production department about the downtime hours for last month. To prepare a report you need to include the Average Downtime for the last month.*"
      ]
    },
    {
      "cell_type": "markdown",
      "metadata": {
        "id": "wmboedvzufMu"
      },
      "source": [
        "*Average Downtime = (downtime hours in a time period) ÷ (total time available to produce vehicles in the same time period) x 100*"
      ]
    },
    {
      "cell_type": "code",
      "execution_count": null,
      "metadata": {
        "colab": {
          "base_uri": "https://localhost:8080/"
        },
        "id": "HEvS5FMZojlz",
        "outputId": "d1bd8ecd-cca2-4df0-89c7-a9b09a93e6a7"
      },
      "outputs": [
        {
          "name": "stdout",
          "output_type": "stream",
          "text": [
            "The Average Downtime Hours for last month is 0.125\n"
          ]
        }
      ],
      "source": [
        "downtime_hours = 30 #downtime hours in a time period\n",
        "total_time = 240 #total time available to produce vehicles in the same time period\n",
        "average_downtime = downtime_hours / total_time\n",
        "print('The Average Downtime Hours for last month is', average_downtime)"
      ]
    },
    {
      "cell_type": "markdown",
      "metadata": {
        "id": "GYHxRFUb_T51"
      },
      "source": [
        "### 🤓 <font color='Blue'> *Your turn to code!* </font>"
      ]
    },
    {
      "cell_type": "markdown",
      "metadata": {
        "id": "_9r8WADTrFxZ"
      },
      "source": [
        "<font color='blue'>*The safety of the workers in any business is always an issue of utmost importance, but in the automotive industry, safety incidents are a common issue that must continually be measured carefully to move toward a safer workplace.<br>Therefore, the Safety officer has provided you with the data related to the safety incidents and you need to calculate the Safety Incidents per employee for the last month*"
      ]
    },
    {
      "cell_type": "markdown",
      "metadata": {
        "id": "MfksGI9ouqQr"
      },
      "source": [
        "*Safety incidents per employee = (number of safety incidents in a time period) ÷ (number of employees working during the time period)*"
      ]
    },
    {
      "cell_type": "code",
      "execution_count": 20,
      "metadata": {
        "ExecuteTime": {
          "end_time": "2022-01-14T19:00:04.626107Z",
          "start_time": "2022-01-14T19:00:04.609153Z"
        },
        "id": "BRwjpY-26n3F",
        "colab": {
          "base_uri": "https://localhost:8080/"
        },
        "outputId": "e5eab4aa-06c8-4a3b-d124-ad93cf88070e"
      },
      "outputs": [
        {
          "output_type": "stream",
          "name": "stdout",
          "text": [
            "Safety incidents per employee is 0.02806122448979592\n"
          ]
        }
      ],
      "source": [
        "#Calculate safety incidents per employee\n",
        "safety_incidents = 44 #number of safety incidents in a time period\n",
        "total_employees = 1568 #number of employees working during the time period\n",
        "safety_per_employee = safety_incidents/total_employees\n",
        "print('Safety incidents per employee is', safety_per_employee)"
      ]
    },
    {
      "cell_type": "markdown",
      "metadata": {
        "id": "Thu0zXj4SpyS"
      },
      "source": [
        "# <font color='Blue'> Data Structures"
      ]
    },
    {
      "cell_type": "markdown",
      "metadata": {
        "id": "ihgVKleG6n3G"
      },
      "source": [
        "<font color='blue'>*The Marketing team has given you the type of products the company is manufacturing. To keep things in order, let's store all the data in a variable.<br> Since we already know how to store values in a variable, let's start by storing the type of cars manufactured.*"
      ]
    },
    {
      "cell_type": "code",
      "execution_count": 21,
      "metadata": {
        "ExecuteTime": {
          "end_time": "2022-01-14T19:00:04.735815Z",
          "start_time": "2022-01-14T19:00:04.722847Z"
        },
        "id": "J_Ps1dEP6n3G"
      },
      "outputs": [],
      "source": [
        "car_type_1 = 'Sedan'\n",
        "car_type_2 = 'Hatchback'\n",
        "car_type_3 = 'SUV'\n",
        "car_type_4 = 'MUV'"
      ]
    },
    {
      "cell_type": "markdown",
      "metadata": {
        "id": "GtCvIQb66n3H"
      },
      "source": [
        "<font color='blue'>*But storing each value in a different variable will be a very lengthy process in case the data is huge. Therefore, we need a way to store multiple values in a single variable.*\n",
        "\n",
        "<font color='blue'>For this, **list** data structure can be used."
      ]
    },
    {
      "cell_type": "markdown",
      "metadata": {
        "id": "hFiWffwUGbfx"
      },
      "source": [
        "## <font color='Blue'>List"
      ]
    },
    {
      "cell_type": "code",
      "execution_count": 22,
      "metadata": {
        "ExecuteTime": {
          "end_time": "2022-01-14T19:00:04.783686Z",
          "start_time": "2022-01-14T19:00:04.773769Z"
        },
        "colab": {
          "base_uri": "https://localhost:8080/"
        },
        "id": "n8vfQFd26n3I",
        "outputId": "2e70aa9c-587f-4d3a-a54a-d8583c62a14c"
      },
      "outputs": [
        {
          "output_type": "stream",
          "name": "stdout",
          "text": [
            "Cars: ['Sedan', 'Hatchback', 'SUV', 'MUV']\n"
          ]
        }
      ],
      "source": [
        "cars_type = [\"Sedan\", \"Hatchback\", \"SUV\", \"MUV\"]\n",
        "print('Cars:',cars_type)"
      ]
    },
    {
      "cell_type": "markdown",
      "metadata": {
        "id": "xRkXLqge6n3H"
      },
      "source": [
        "**A list in Python is an ordered group of items or elements, and these list elements don't have\n",
        "to be of the same type. Python Lists are mutable objects that can change their values.<br>\n",
        "<br>A list contains items separated by commas and enclosed within square brackets.\n",
        "List indices, like strings, start at 0 at the beginning of the list and work their way from -1 at the end.**"
      ]
    },
    {
      "cell_type": "markdown",
      "metadata": {
        "id": "7khw9tUd6n3I"
      },
      "source": [
        "<font color='blue'>*All types of cars are now being stored in a single variable. Similarly, we can do the same process for other attributes as well.*"
      ]
    },
    {
      "cell_type": "code",
      "execution_count": 23,
      "metadata": {
        "ExecuteTime": {
          "end_time": "2022-01-14T19:00:04.815600Z",
          "start_time": "2022-01-14T19:00:04.805626Z"
        },
        "colab": {
          "base_uri": "https://localhost:8080/"
        },
        "id": "dGee7noPCAc7",
        "outputId": "e1089ff7-bb4f-4054-ae3d-82dbe7083671"
      },
      "outputs": [
        {
          "output_type": "stream",
          "name": "stdout",
          "text": [
            "Mileage: [15, 19, 12, 10]\n"
          ]
        }
      ],
      "source": [
        "mileage = [15, 19, 12, 10]\n",
        "print('Mileage:',mileage)"
      ]
    },
    {
      "cell_type": "markdown",
      "metadata": {
        "id": "IB3Q88-s_T53"
      },
      "source": [
        "### 🤓<font color='Blue'> *Your turn to code!* </font>"
      ]
    },
    {
      "cell_type": "code",
      "execution_count": 34,
      "metadata": {
        "ExecuteTime": {
          "end_time": "2022-01-14T19:00:04.847555Z",
          "start_time": "2022-01-14T19:00:04.842529Z"
        },
        "id": "vQjlykuK_T53",
        "colab": {
          "base_uri": "https://localhost:8080/"
        },
        "outputId": "6e5279e7-cf54-4a62-879f-f2d24f3a0680"
      },
      "outputs": [
        {
          "output_type": "stream",
          "name": "stdout",
          "text": [
            "Cars ['Sedan', 'Hatchback', 'SUV', 'Hybrid_car'] and Values [200, 652, 412, 123]\n"
          ]
        }
      ],
      "source": [
        "# Create a list that contains the values for sales that happened to date. The values are 200, 652, 412, 123 for \"Sedan\", \"Hatchback\", \"SUV\", \"MUV\" respectively\n",
        "# print those values as well\n",
        "c_values = [200,652,412,123]\n",
        "print('Cars', cars_type, 'and', 'Values', c_values, )\n"
      ]
    },
    {
      "cell_type": "markdown",
      "metadata": {
        "id": "4btuKswAEOWb"
      },
      "source": [
        "\n",
        "**You can also do modifications and access the elements in the list as lists are mutable.**\n"
      ]
    },
    {
      "cell_type": "markdown",
      "metadata": {
        "id": "teVzOjWJ6n3J"
      },
      "source": [
        "<font color='blue'>*Due to the less demand for MUV cars in the market, the company has decided to stop the production of these types of cars and instead introduce a new type in the market. <br>As per the reports received from the Marketing team, the data shows that demand for Hybrid cars is high among a significant amount of population and hence, company has decided to launch its new Hybrid car in the market this month.*"
      ]
    },
    {
      "cell_type": "code",
      "execution_count": 26,
      "metadata": {
        "ExecuteTime": {
          "end_time": "2022-01-14T19:00:04.895386Z",
          "start_time": "2022-01-14T19:00:04.887407Z"
        },
        "colab": {
          "base_uri": "https://localhost:8080/"
        },
        "id": "Szi0CwYAEMki",
        "outputId": "5741fca2-8513-4204-eba3-dde9342a86b6"
      },
      "outputs": [
        {
          "output_type": "stream",
          "name": "stdout",
          "text": [
            "Cars: ['Sedan', 'Hatchback', 'SUV']\n"
          ]
        }
      ],
      "source": [
        "cars_type.remove(\"MUV\") # remove() method removes the first matching element from the list, value 'MUV' is removed from the variables cars_type\n",
        "\n",
        "print('Cars:',cars_type)"
      ]
    },
    {
      "cell_type": "code",
      "execution_count": 27,
      "metadata": {
        "ExecuteTime": {
          "end_time": "2022-01-14T19:00:04.911343Z",
          "start_time": "2022-01-14T19:00:04.899377Z"
        },
        "colab": {
          "base_uri": "https://localhost:8080/"
        },
        "id": "QqypibKF6n3K",
        "outputId": "0a3f00bc-c114-48d2-edd8-3e7c67878008"
      },
      "outputs": [
        {
          "output_type": "stream",
          "name": "stdout",
          "text": [
            "Cars: ['Sedan', 'Hatchback', 'SUV', 'Hybrid_car']\n"
          ]
        }
      ],
      "source": [
        "cars_type.append(\"Hybrid_car\") # append() method in python adds a single item to the existing list, it adds the new type Hybrid_car to the list variable cars_type\n",
        "\n",
        "print('Cars:',cars_type)"
      ]
    },
    {
      "cell_type": "markdown",
      "metadata": {
        "id": "M9vH47WqFW2S"
      },
      "source": [
        "**The list index starts with 0 in Python. So, the index value of the 1st element is 0, similarly, for the 2nd and 3rd element, it is 1 and 2 respectively. And so on...**"
      ]
    },
    {
      "cell_type": "markdown",
      "metadata": {
        "id": "qslhbURm_T54"
      },
      "source": [
        "<img align='right' src=https://files.realpython.com/media/t.c11ea56e8ca2.png width=\"1000\" height=\"400\" />"
      ]
    },
    {
      "cell_type": "markdown",
      "metadata": {
        "id": "zjMVvnu-6n3L"
      },
      "source": [
        "<font color='blue'>*You still have the data associated with the MUV type of cars and new data for the Hybrid car. So instead of deleting the previous data and adding the new data, you can also replace it with new data from Hybrid car. Therefore instead of using the remove and append function, you can also modify the elements by accessing the index values.*"
      ]
    },
    {
      "cell_type": "code",
      "execution_count": null,
      "metadata": {
        "ExecuteTime": {
          "end_time": "2022-01-14T19:00:04.990133Z",
          "start_time": "2022-01-14T19:00:04.972222Z"
        },
        "colab": {
          "base_uri": "https://localhost:8080/"
        },
        "id": "0vD_4x_HFZSc",
        "outputId": "4510420c-7ec8-4192-f374-1c2d35beef7f"
      },
      "outputs": [
        {
          "name": "stdout",
          "output_type": "stream",
          "text": [
            "Mileage: [15, 19, 12, 9]\n"
          ]
        }
      ],
      "source": [
        "mileage[3] = 9 # modifying the mileage data [replacing 3rd index position i.e. 10 with a new value 9]\n",
        "print('Mileage:',mileage)"
      ]
    },
    {
      "cell_type": "markdown",
      "metadata": {
        "id": "XUQDbvgMQnaV"
      },
      "source": [
        "<font color='blue'>*Instead of getting a single element, you can also get a section of list by slicing the list*"
      ]
    },
    {
      "cell_type": "code",
      "execution_count": null,
      "metadata": {
        "colab": {
          "base_uri": "https://localhost:8080/"
        },
        "id": "fDEFs0DHQQMo",
        "outputId": "75b9a6de-1618-493a-dcac-052da28fe45b"
      },
      "outputs": [
        {
          "data": {
            "text/plain": [
              "['Sedan', 'Hatchback']"
            ]
          },
          "execution_count": 22,
          "metadata": {},
          "output_type": "execute_result"
        }
      ],
      "source": [
        "cars_type[0:2] # will return the first two elements of cars_type which are indexed as 0 and 1.\n",
        "              #NOTE- [a:b], this will take elements from 'a' to 'b-1'"
      ]
    },
    {
      "cell_type": "markdown",
      "metadata": {
        "id": "8LV2X0pE_T55"
      },
      "source": [
        "### 🤓<font color='Blue'> *Your turn to code!* </font>"
      ]
    },
    {
      "cell_type": "code",
      "execution_count": 28,
      "metadata": {
        "ExecuteTime": {
          "end_time": "2022-01-14T19:00:05.022048Z",
          "start_time": "2022-01-14T19:00:05.010080Z"
        },
        "id": "7DohRVoI_T55",
        "colab": {
          "base_uri": "https://localhost:8080/"
        },
        "outputId": "dff7493e-ff61-4ed0-a12c-a54fb18c17b1"
      },
      "outputs": [
        {
          "output_type": "stream",
          "name": "stdout",
          "text": [
            "New car values [200, 652]\n"
          ]
        }
      ],
      "source": [
        "# Remove the last element from the variable you created for sales to date using negative indexing\n",
        "c_values = c_values[0:2]\n",
        "print('New car values', c_values)"
      ]
    },
    {
      "cell_type": "code",
      "execution_count": 32,
      "metadata": {
        "id": "ANbCarOzR2ev",
        "colab": {
          "base_uri": "https://localhost:8080/"
        },
        "outputId": "92180937-50b5-49ed-a513-7eec2f2f5387"
      },
      "outputs": [
        {
          "output_type": "stream",
          "name": "stdout",
          "text": [
            "Last two mileage [12, 10]\n"
          ]
        }
      ],
      "source": [
        "# print the last two elements of the 'mileage' variable\n",
        "print('Last two mileage', mileage[-2:])"
      ]
    },
    {
      "cell_type": "markdown",
      "metadata": {
        "id": "cdSCj4lW6n3L"
      },
      "source": [
        "<font color='blue'>*An investor has decided to visit the company and has asked you about the car types and sales to date.*"
      ]
    },
    {
      "cell_type": "code",
      "execution_count": 33,
      "metadata": {
        "ExecuteTime": {
          "end_time": "2022-01-14T19:00:05.053961Z",
          "start_time": "2022-01-14T19:00:05.037007Z"
        },
        "colab": {
          "base_uri": "https://localhost:8080/"
        },
        "id": "FrpHCWlxJBJx",
        "outputId": "04b6a41d-7953-44b9-aa5c-a377e359c212"
      },
      "outputs": [
        {
          "output_type": "stream",
          "name": "stdout",
          "text": [
            "The total number of car types manufactured are 4\n"
          ]
        }
      ],
      "source": [
        "# To get the number of cars produced in company, you find the length of list 'cars'\n",
        "print('The total number of car types manufactured are',len(cars_type))\n"
      ]
    },
    {
      "cell_type": "markdown",
      "metadata": {
        "id": "b2hPE5Gz_T56"
      },
      "source": [
        "### 🤓 <font color='Blue'> *Your turn to code!* </font>"
      ]
    },
    {
      "cell_type": "code",
      "execution_count": 37,
      "metadata": {
        "ExecuteTime": {
          "end_time": "2022-01-14T19:00:05.084878Z",
          "start_time": "2022-01-14T19:00:05.071914Z"
        },
        "id": "3bcnh2rH_T56",
        "colab": {
          "base_uri": "https://localhost:8080/"
        },
        "outputId": "58909471-da4a-46cd-eb78-748af7628aa7"
      },
      "outputs": [
        {
          "output_type": "stream",
          "name": "stdout",
          "text": [
            "Total car value this year 1387\n"
          ]
        }
      ],
      "source": [
        "# Calculate the total sales that happened to date using the variable you created above.\n",
        "#HINT: you can use the built-in function 'sum' to calculate the total sales\n",
        "print('Total car value this year', sum(c_values))\n"
      ]
    },
    {
      "cell_type": "markdown",
      "metadata": {
        "id": "h_M0rXEcGYqr"
      },
      "source": [
        "## <font color='Blue'> Tuple"
      ]
    },
    {
      "cell_type": "markdown",
      "metadata": {
        "id": "UCdlyTXxGeNi"
      },
      "source": [
        "<font color='blue'>*After receiving the new report, you decide to store some fixed values which are not going to be changed like number of seats in a car, etc.<br>\n",
        "Since this data need not be changed in future, you decide to use a tuple data structure. Reason: They are immutable.*"
      ]
    },
    {
      "cell_type": "code",
      "execution_count": 38,
      "metadata": {
        "ExecuteTime": {
          "end_time": "2022-01-14T19:00:05.147712Z",
          "start_time": "2022-01-14T19:00:05.139732Z"
        },
        "colab": {
          "base_uri": "https://localhost:8080/"
        },
        "id": "PNcoQP1NF9GC",
        "outputId": "275b1936-bf86-419f-c0f5-21a4d2324c5b"
      },
      "outputs": [
        {
          "output_type": "stream",
          "name": "stdout",
          "text": [
            "The number of seats for each type of car are (5, 4, 6, 8)\n"
          ]
        }
      ],
      "source": [
        "# car sitting\n",
        "sitting = (5, 4, 6, 8) # ['Sedan', 'Hatchback', 'SUV', 'Hybrid_car']\n",
        "print('The number of seats for each type of car are',sitting)"
      ]
    },
    {
      "cell_type": "markdown",
      "metadata": {
        "id": "S7r2bAEa6n3M"
      },
      "source": [
        "**A tuple is a collection that is ordered and unchangeable. In Python, tuples are written with parentheses. Python Tuples are immutable objects that cannot be changed once they have been created.<br>\n",
        "<br>A tuple contains items separated by commas and enclosed in parentheses instead of square brackets. You can update an existing tuple by (re)assigning a variable to another tuple.<br>\n",
        "<br>The rules for tuple indices are the same as for lists and they have similar operations and functions as well.**"
      ]
    },
    {
      "cell_type": "markdown",
      "metadata": {
        "id": "2hRJ8CRuSe8h"
      },
      "source": [
        "### 🤓 <font color='Blue'> *Your turn to code!* </font>"
      ]
    },
    {
      "cell_type": "code",
      "execution_count": 39,
      "metadata": {
        "id": "u1vfe-sBSbsK",
        "colab": {
          "base_uri": "https://localhost:8080/"
        },
        "outputId": "13a43021-6e0c-47d8-972f-560bc5d295f3"
      },
      "outputs": [
        {
          "output_type": "stream",
          "name": "stdout",
          "text": [
            "Size of cars (2200, 1800, 2500, 3000)\n"
          ]
        }
      ],
      "source": [
        "# consider the Engine Size in cc for each car type is 2200, 1800, 2500, 3000.\n",
        "# create a variable and store these values in Tuple Data Structure and print the results\n",
        "car_cc = (2200, 1800, 2500, 3000)\n",
        "print('Size of cars', car_cc)\n"
      ]
    },
    {
      "cell_type": "markdown",
      "metadata": {
        "id": "oumXZIBYHHdC"
      },
      "source": [
        "## <font color='Blue'> Dictionary\n"
      ]
    },
    {
      "cell_type": "markdown",
      "metadata": {
        "id": "UALI9xgG6n3O"
      },
      "source": [
        "<font color='blue'>*So the above data we have stored in a List or Tuple for each type of car is not linked directly with the type of car. To link data with each other Dictionaries are used.<br>Let's create a dictionary to store the sales figures of last month based on car types in a key: value format*"
      ]
    },
    {
      "cell_type": "code",
      "execution_count": 40,
      "metadata": {
        "ExecuteTime": {
          "end_time": "2022-01-14T19:00:05.242457Z",
          "start_time": "2022-01-14T19:00:05.227497Z"
        },
        "colab": {
          "base_uri": "https://localhost:8080/"
        },
        "id": "t_AfQ7KeHEFr",
        "outputId": "984d6f20-8b1c-4681-949e-d125478f6ba3"
      },
      "outputs": [
        {
          "output_type": "stream",
          "name": "stdout",
          "text": [
            "Sales last month: {'Sedan': 2, 'Hatchback': 3, 'SUV': 1.5, 'Hybrid_car': 0}\n"
          ]
        }
      ],
      "source": [
        "sales_last_month = {'Sedan': 2, 'Hatchback':3, 'SUV':1.5, 'Hybrid_car':0} # in crores\n",
        "print('Sales last month:',sales_last_month)"
      ]
    },
    {
      "cell_type": "markdown",
      "metadata": {
        "id": "wMF0NSTK6n3O"
      },
      "source": [
        "<mark style=\"background-color: lightyellow\"> **A dictionary is a collection that is unordered, mutable, and indexed. They have keys and values.**<br> </mark>\n",
        "* <mark style=\"background-color: lightyellow\"> Each key is separated from its value by a colon (:), the items are separated by commas, and the whole thing is enclosed in curly braces<br></mark>\n",
        "* <mark style=\"background-color: lightyellow\"> Keys are unique within a dictionary while values may not be\n",
        "* <mark style=\"background-color: lightyellow\"> The values of a dictionary can be of any type </mark>"
      ]
    },
    {
      "cell_type": "code",
      "execution_count": null,
      "metadata": {
        "ExecuteTime": {
          "end_time": "2022-01-14T19:00:05.258415Z",
          "start_time": "2022-01-14T19:00:05.246447Z"
        },
        "colab": {
          "base_uri": "https://localhost:8080/"
        },
        "id": "PuUXcyjpHd8C",
        "outputId": "805718c7-ddab-441a-af28-a2c6163678c7"
      },
      "outputs": [
        {
          "name": "stdout",
          "output_type": "stream",
          "text": [
            "dict_keys(['Sedan', 'Hatchback', 'SUV', 'Hybrid_car'])\n",
            "dict_values([2, 3, 1.5, 0])\n"
          ]
        }
      ],
      "source": [
        "# getting the keys\n",
        "print(sales_last_month.keys()) # gives the list of keys in dictionary\n",
        "\n",
        "print(sales_last_month.values()) # gives the list of values in dictionary"
      ]
    },
    {
      "cell_type": "markdown",
      "metadata": {
        "id": "gApx51OTuAqf"
      },
      "source": [
        "**Like Lists, you can also do the modification in Dictionaries as well, for example Slicing, Updating and Adding new values**"
      ]
    },
    {
      "cell_type": "markdown",
      "metadata": {
        "id": "HBzVQwfPH7ri"
      },
      "source": [
        "<font color='blue'>*Just now you received a notification that the first model of Hybrid car has been sold last month.<br>\n",
        "So you decide to change it in your dictionary data accordingly*"
      ]
    },
    {
      "cell_type": "code",
      "execution_count": 41,
      "metadata": {
        "ExecuteTime": {
          "end_time": "2022-01-14T19:00:05.290330Z",
          "start_time": "2022-01-14T19:00:05.275371Z"
        },
        "colab": {
          "base_uri": "https://localhost:8080/"
        },
        "id": "omp5TFSOH1uJ",
        "outputId": "b83b1067-c186-4a7b-b25a-9c42709bbb2b"
      },
      "outputs": [
        {
          "output_type": "stream",
          "name": "stdout",
          "text": [
            "0\n"
          ]
        }
      ],
      "source": [
        "initial = sales_last_month[\"Hybrid_car\"]\n",
        "print(initial)"
      ]
    },
    {
      "cell_type": "code",
      "execution_count": 42,
      "metadata": {
        "ExecuteTime": {
          "end_time": "2022-01-14T19:00:05.306288Z",
          "start_time": "2022-01-14T19:00:05.293323Z"
        },
        "colab": {
          "base_uri": "https://localhost:8080/"
        },
        "id": "SiGjwVJi6n3P",
        "outputId": "c30fd48b-098c-40a3-95b5-d98fecb3adf5"
      },
      "outputs": [
        {
          "output_type": "stream",
          "name": "stdout",
          "text": [
            "Sales last month: {'Sedan': 2, 'Hatchback': 3, 'SUV': 1.5, 'Hybrid_car': 0.25}\n"
          ]
        }
      ],
      "source": [
        "sales_last_month[\"Hybrid_car\"] = 0.25\n",
        "print('Sales last month:',sales_last_month)"
      ]
    },
    {
      "cell_type": "markdown",
      "metadata": {
        "id": "icbHt48yJobJ"
      },
      "source": [
        "**You can also check the type of data structures as we did while going through int, str and float**"
      ]
    },
    {
      "cell_type": "code",
      "execution_count": null,
      "metadata": {
        "ExecuteTime": {
          "end_time": "2022-01-14T19:00:05.338204Z",
          "start_time": "2022-01-14T19:00:05.328229Z"
        },
        "colab": {
          "base_uri": "https://localhost:8080/"
        },
        "id": "rGZo6dZOIoYK",
        "outputId": "2589fb5e-f786-4f99-9245-d0b27b8e7bb0"
      },
      "outputs": [
        {
          "name": "stdout",
          "output_type": "stream",
          "text": [
            "The type of data structure for variable cars is <class 'list'>\n",
            "The type of data structure for variable sales last month is <class 'dict'>\n"
          ]
        }
      ],
      "source": [
        "print('The type of data structure for variable cars is',type(cars_type))\n",
        "print('The type of data structure for variable sales last month is',type(sales_last_month))"
      ]
    },
    {
      "cell_type": "markdown",
      "metadata": {
        "id": "HAUT16RW_T59"
      },
      "source": [
        "### 🤓 <font color='Blue'> *Your turn to code!* </font>"
      ]
    },
    {
      "cell_type": "code",
      "execution_count": 45,
      "metadata": {
        "ExecuteTime": {
          "end_time": "2022-01-14T19:00:05.370117Z",
          "start_time": "2022-01-14T19:00:05.360144Z"
        },
        "id": "kGPmcc5I_T59",
        "colab": {
          "base_uri": "https://localhost:8080/"
        },
        "outputId": "dc776d69-a2db-41ac-a849-b396fdec4a40"
      },
      "outputs": [
        {
          "output_type": "stream",
          "name": "stdout",
          "text": [
            "The type of data structure for variable sitting is <class 'tuple'>\n"
          ]
        }
      ],
      "source": [
        "# Check the data structure type for variable 'sitting'\n",
        "print('The type of data structure for variable sitting is', type(sitting))\n"
      ]
    },
    {
      "cell_type": "markdown",
      "metadata": {
        "id": "7LTcFyA4TeFb"
      },
      "source": [
        "# <font color='Blue'>Comparison Operators\n"
      ]
    },
    {
      "cell_type": "markdown",
      "metadata": {
        "id": "ljDxHaBp2mTZ"
      },
      "source": [
        "**Comparison operators are used for comparing the values. It either returns True or False according to the condition.**"
      ]
    },
    {
      "cell_type": "markdown",
      "metadata": {
        "id": "foEftJgtT50B"
      },
      "source": [
        "<font color='blue'>*To prepare monthly report, Marketing team has requested to know if sales of Sedans are higher than Hybrid car so that they can decide which type of car to promote more and optimize their marketing costs accordingly.<br>Let's compare the sales from last month for different car types.*"
      ]
    },
    {
      "cell_type": "code",
      "execution_count": 46,
      "metadata": {
        "colab": {
          "base_uri": "https://localhost:8080/"
        },
        "id": "nzFAg9xjTkc3",
        "outputId": "6eb0f09f-1cb1-4612-9b79-5cff3af0837e"
      },
      "outputs": [
        {
          "output_type": "execute_result",
          "data": {
            "text/plain": [
              "True"
            ]
          },
          "metadata": {},
          "execution_count": 46
        }
      ],
      "source": [
        "sales_last_month['Sedan'] > sales_last_month['Hybrid_car']"
      ]
    },
    {
      "cell_type": "markdown",
      "metadata": {
        "id": "mptkHjYYf40m"
      },
      "source": [
        "<font color='blue'>*This shows that sales of Sedans are higher than sales of Hybrid car for last month.*"
      ]
    },
    {
      "cell_type": "markdown",
      "metadata": {
        "id": "zOJ4yBAXUQAx"
      },
      "source": [
        "<mark style=\"background-color: lightyellow\"> **If the condition applied is valid, then it will result as *'True'* output, otherwise will return *'False'* as an output.<br>Below are some common operators used in Python:**</mark>"
      ]
    },
    {
      "cell_type": "markdown",
      "metadata": {
        "id": "K0_YjikWg8-4"
      },
      "source": [
        "|Operator|Symbol in Python|Description|\n",
        "|---|---|---|\n",
        "|Equals| ==|If the values of two operands are equal, then the condition becomes true.|\n",
        "|Not Equal to|!=|If values of two operands are not equal, then condition becomes true.\n",
        "| Greater than| >|If the value of left operand is greater than the value of right operand, then condition becomes true.\n",
        "| Less than| <|If the value of left operand is less than the value of right operand, then condition becomes true.\n",
        "|Greater than or Equal to|>=|If the value of left operand is greater than or equal to the value of right operand, then condition becomes true.\n",
        "|Less than or Equal to|<=|If the value of left operand is less than or equal to the value of right operand, then condition becomes true.\n"
      ]
    },
    {
      "cell_type": "markdown",
      "metadata": {
        "id": "nLv6ijLEKtcZ"
      },
      "source": [
        "# <font color='Blue'>Conditional Statements\n"
      ]
    },
    {
      "cell_type": "markdown",
      "metadata": {
        "id": "6PI735K0WZSP"
      },
      "source": [
        "<mark style=\"background-color: lightyellow\"> **Conditional Statement in Python perform different actions depending on whether a specific condition evaluates to true or false.<br>if-else are the conditional statements**</mark>"
      ]
    },
    {
      "cell_type": "markdown",
      "metadata": {
        "id": "mRhp3Kfc6n3Q"
      },
      "source": [
        "<font color='blue'>*You have been given the data of car ratings from the customers. Based on this you need to write a program that gives car performance on inputting the car name.*"
      ]
    },
    {
      "cell_type": "code",
      "execution_count": 56,
      "metadata": {
        "ExecuteTime": {
          "end_time": "2022-01-14T19:00:05.433946Z",
          "start_time": "2022-01-14T19:00:05.420981Z"
        },
        "colab": {
          "base_uri": "https://localhost:8080/"
        },
        "id": "WywcNnvuKV2Z",
        "outputId": "5cb7e9bd-4892-4121-c7df-64b1f8b743f8"
      },
      "outputs": [
        {
          "output_type": "stream",
          "name": "stdout",
          "text": [
            "Ratings of each car: {'Sedan_1': 64, 'Sedan_2': 49, 'Hatchback_1': 59, 'Hatchback_2': 78, 'SUV_1': 32, 'SUV_2': 84, 'MUV_1': 21, 'MUV_2': 31}\n"
          ]
        }
      ],
      "source": [
        "# stored the ratings of each car in a dictionary\n",
        "cars_ratings= {\n",
        "    'Sedan_1': 64,\n",
        "    'Sedan_2': 49,\n",
        "    'Hatchback_1': 59,\n",
        "    'Hatchback_2': 78,\n",
        "    'SUV_1': 32,\n",
        "    'SUV_2': 84,\n",
        "    'MUV_1': 21,\n",
        "    'MUV_2': 31\n",
        "}\n",
        "print('Ratings of each car:', cars_ratings)"
      ]
    },
    {
      "cell_type": "markdown",
      "metadata": {
        "id": "52t-lxt7_T5-"
      },
      "source": [
        "## <font color='Blue'> if-else"
      ]
    },
    {
      "cell_type": "code",
      "execution_count": 57,
      "metadata": {
        "ExecuteTime": {
          "end_time": "2022-01-14T19:00:05.481817Z",
          "start_time": "2022-01-14T19:00:05.462868Z"
        },
        "colab": {
          "base_uri": "https://localhost:8080/"
        },
        "id": "fcP_d-_i6n3R",
        "outputId": "a95987cf-acc3-4f53-e38e-816b545e668f"
      },
      "outputs": [
        {
          "output_type": "stream",
          "name": "stdout",
          "text": [
            "Sedan_1 performs well\n"
          ]
        }
      ],
      "source": [
        "# a car is said to be well-performing if it's rating is greater than 50\n",
        "# check whether Sedan_1 is a good performer\n",
        "if(cars_ratings['Sedan_1']<50): # checking if it's lower than 50\n",
        "  print(\"Sedan_1 is not performing well\")\n",
        "\n",
        "else:\n",
        "  print(\"Sedan_1 performs well\")"
      ]
    },
    {
      "cell_type": "markdown",
      "metadata": {
        "id": "KHR6RPT98Dbx"
      },
      "source": [
        "<div class=\"alert alert-block alert-danger\"> IndentationError :\n",
        "if you miss out on adding tabs or spaces between your lines of code, then you will most likely experience this error </div>"
      ]
    },
    {
      "cell_type": "code",
      "execution_count": 58,
      "metadata": {
        "colab": {
          "base_uri": "https://localhost:8080/"
        },
        "id": "8nCVvjZi8Dby",
        "outputId": "944b9190-d682-4d34-a955-1cec468352be"
      },
      "outputs": [
        {
          "output_type": "stream",
          "name": "stdout",
          "text": [
            "Sedan_1 performs well\n"
          ]
        }
      ],
      "source": [
        "if(cars_ratings['Sedan_1']<50): # checking if it's lower than 50\n",
        "  print(\"Sedan_1 is not performing well\")\n",
        "\n",
        "else:\n",
        "  print(\"Sedan_1 performs well\")"
      ]
    },
    {
      "cell_type": "markdown",
      "metadata": {
        "id": "SGGcEXz03o-r"
      },
      "source": [
        "<mark style=\"background-color: lightyellow\"> **Python if Statement is used for decision-making operations. It contains a body of code which runs only when the condition given in the if statement is true. If the condition is false, then the optional else statement runs which contains some code for the else condition.**</mark>"
      ]
    },
    {
      "cell_type": "markdown",
      "metadata": {
        "id": "Whmr-nG2_T5-"
      },
      "source": [
        "### <font color='Blue'> *Your turn to code!* </font>"
      ]
    },
    {
      "cell_type": "code",
      "execution_count": 61,
      "metadata": {
        "ExecuteTime": {
          "end_time": "2022-01-14T19:00:05.544649Z",
          "start_time": "2022-01-14T19:00:05.526698Z"
        },
        "id": "g1s7CgS1_T5-",
        "colab": {
          "base_uri": "https://localhost:8080/"
        },
        "outputId": "3f58bbcc-5e73-4ae5-8d1b-ddde8a776de7"
      },
      "outputs": [
        {
          "output_type": "stream",
          "name": "stdout",
          "text": [
            "MUV_1 is not performing well\n",
            "MUV_2 performs well\n"
          ]
        }
      ],
      "source": [
        "# Create a conditional statement to check the performance for MUV_1 and MUV_2\n",
        "if(cars_ratings['MUV_1']<60): # checking if it's lower than 60\n",
        "  print(\"MUV_1 is not performing well\")\n",
        "\n",
        "else:\n",
        "  print(\"MUV_1 performs well\")\n",
        "\n",
        "if(cars_ratings['MUV_2']<20): # checking if it's lower than 60\n",
        "  print(\"MUV_2 is not performing well\")\n",
        "\n",
        "else:\n",
        "  print(\"MUV_2 performs well\")\n"
      ]
    },
    {
      "cell_type": "markdown",
      "metadata": {
        "id": "NoIqhKQ0jPZD"
      },
      "source": [
        "# <font color='Blue'>Loops"
      ]
    },
    {
      "cell_type": "markdown",
      "metadata": {
        "id": "DNXVwlq3UYgC"
      },
      "source": [
        "## <font color='Blue'> \"for\" Loop"
      ]
    },
    {
      "cell_type": "markdown",
      "metadata": {
        "id": "Y24u9m9Fa4IS"
      },
      "source": [
        "<font color='blue'>*Now in case we need to check for each type of car, we need to write the above code which will become very lengthy in case we have a huge amount of data. Hence, a loop can be used in that situation.*"
      ]
    },
    {
      "cell_type": "code",
      "execution_count": 63,
      "metadata": {
        "ExecuteTime": {
          "end_time": "2022-01-14T19:00:05.623438Z",
          "start_time": "2022-01-14T19:00:05.607482Z"
        },
        "colab": {
          "base_uri": "https://localhost:8080/"
        },
        "id": "MvLwN1JLifEM",
        "outputId": "24454d97-c22e-4bcd-c77e-742a144cc5f6",
        "scrolled": true
      },
      "outputs": [
        {
          "output_type": "stream",
          "name": "stdout",
          "text": [
            "Sedan_1\n",
            "Sedan_2\n",
            "Hatchback_1\n",
            "Hatchback_2\n",
            "SUV_1\n",
            "SUV_2\n",
            "MUV_1\n",
            "MUV_2\n"
          ]
        }
      ],
      "source": [
        "car_names= cars_ratings.keys() # this gives a list, remember?\n",
        "\n",
        "# print all car names\n",
        "for car in car_names:\n",
        "  print(car)"
      ]
    },
    {
      "cell_type": "markdown",
      "metadata": {
        "id": "kec1cIPti1Tj"
      },
      "source": [
        "<mark style=\"background-color: lightyellow\"> **The *for* loop in Python is used to iterate over a sequence (list, tuple, string) or other iterable objects.\n",
        "<br><br>Loop continues until we reach the last item in the sequence. The body of for loop is separated\n",
        "from the rest of the code using indentation.**"
      ]
    },
    {
      "cell_type": "code",
      "execution_count": 64,
      "metadata": {
        "ExecuteTime": {
          "end_time": "2022-01-14T19:00:05.639395Z",
          "start_time": "2022-01-14T19:00:05.626431Z"
        },
        "colab": {
          "base_uri": "https://localhost:8080/"
        },
        "id": "P-bMIBqq6n3T",
        "outputId": "7c3bdca0-2260-4f68-a359-136c7a230438",
        "scrolled": true
      },
      "outputs": [
        {
          "output_type": "stream",
          "name": "stdout",
          "text": [
            "Sedan_2 is not performing well\n",
            "SUV_1 is not performing well\n",
            "MUV_1 is not performing well\n",
            "MUV_2 is not performing well\n"
          ]
        }
      ],
      "source": [
        "# Get names of all the cars which are under performing\n",
        "for car in car_names:\n",
        "  if cars_ratings[car]<50:\n",
        "    print(f\"{car} is not performing well\") # formatinf string f\"{}\""
      ]
    },
    {
      "cell_type": "markdown",
      "metadata": {
        "id": "PJwBL-Xynh15"
      },
      "source": [
        "<font color='Blue'>*Now you know the reason why MUV production was closed by the company, both of its models weren't performing well.*"
      ]
    },
    {
      "cell_type": "markdown",
      "metadata": {
        "id": "H0pvoHBL_T6B"
      },
      "source": [
        "### <font color='Blue'> *Your turn to code!* </font>"
      ]
    },
    {
      "cell_type": "code",
      "execution_count": 65,
      "metadata": {
        "ExecuteTime": {
          "end_time": "2022-01-14T19:00:05.655354Z",
          "start_time": "2022-01-14T19:00:05.648372Z"
        },
        "id": "-j77J9-A_T6C",
        "colab": {
          "base_uri": "https://localhost:8080/"
        },
        "outputId": "0e2247ac-81f4-433a-add5-9e311dde23fb"
      },
      "outputs": [
        {
          "output_type": "stream",
          "name": "stdout",
          "text": [
            "Sedan_1 is performing well\n",
            "Hatchback_1 is performing well\n",
            "Hatchback_2 is performing well\n",
            "SUV_2 is performing well\n"
          ]
        }
      ],
      "source": [
        "# Create a for loop to check the performance of cars having ratings greater than 50\n",
        "for car in car_names:\n",
        "  if cars_ratings[car]>50:\n",
        "    print(f\"{car} is performing well\") # formatinf string f\"{}\""
      ]
    },
    {
      "cell_type": "markdown",
      "metadata": {
        "id": "BsUoEiAx_T6L"
      },
      "source": [
        "### <font color='Blue'>Summary"
      ]
    },
    {
      "cell_type": "markdown",
      "metadata": {
        "id": "XPBNuFAi_T6M"
      },
      "source": [
        "<font size='3'>\n",
        "<li> Understand how to create variables,store data in a variable and check the data types<br>\n",
        "<li> Performed basic Arithmetic operations and storing data in List, Tuple and Dictionaries<br>\n",
        "<li> Performed basic comparison of variables by using different operators<br>\n",
        "<li>Creating conditional statements by passing single conditions as well as multiple conditions.<br>\n",
        "<li>Understand how to execute a similar condition multiple times by creating loops <br>\n",
        "</font>\n"
      ]
    },
    {
      "cell_type": "markdown",
      "metadata": {
        "id": "n6Bylm_t8Db3"
      },
      "source": [
        "__"
      ]
    },
    {
      "cell_type": "markdown",
      "metadata": {
        "id": "wwht20cw8Db3"
      },
      "source": [
        "<center><div style=style=\"font-size: 34PX\"> <font color=BLUE><B>Next steps</B></FONT></DIV></center>"
      ]
    },
    {
      "cell_type": "markdown",
      "metadata": {
        "id": "duiUf0lI8Db4"
      },
      "source": [
        "![image%20%289%29.png](attachment:image%20%289%29.png)"
      ]
    },
    {
      "cell_type": "markdown",
      "metadata": {
        "id": "swjxBJE66n3i"
      },
      "source": [
        "# <font color='blue'>Happy Learning !"
      ]
    },
    {
      "cell_type": "markdown",
      "metadata": {
        "id": "nbe1M_GGsPyb"
      },
      "source": [
        "---"
      ]
    }
  ],
  "metadata": {
    "colab": {
      "collapsed_sections": [
        "BsUoEiAx_T6L"
      ],
      "name": "Python_Preparatory_Session V2.ipynb",
      "provenance": [],
      "include_colab_link": true
    },
    "hide_input": false,
    "kernelspec": {
      "display_name": "Python 3 (ipykernel)",
      "language": "python",
      "name": "python3"
    },
    "language_info": {
      "codemirror_mode": {
        "name": "ipython",
        "version": 3
      },
      "file_extension": ".py",
      "mimetype": "text/x-python",
      "name": "python",
      "nbconvert_exporter": "python",
      "pygments_lexer": "ipython3",
      "version": "3.8.8"
    },
    "latex_envs": {
      "LaTeX_envs_menu_present": true,
      "autoclose": false,
      "autocomplete": true,
      "bibliofile": "biblio.bib",
      "cite_by": "apalike",
      "current_citInitial": 1,
      "eqLabelWithNumbers": true,
      "eqNumInitial": 1,
      "hotkeys": {
        "equation": "Ctrl-E",
        "itemize": "Ctrl-I"
      },
      "labels_anchors": false,
      "latex_user_defs": false,
      "report_style_numbering": false,
      "user_envs_cfg": false
    },
    "varInspector": {
      "cols": {
        "lenName": 16,
        "lenType": 16,
        "lenVar": 40
      },
      "kernels_config": {
        "python": {
          "delete_cmd_postfix": "",
          "delete_cmd_prefix": "del ",
          "library": "var_list.py",
          "varRefreshCmd": "print(var_dic_list())"
        },
        "r": {
          "delete_cmd_postfix": ") ",
          "delete_cmd_prefix": "rm(",
          "library": "var_list.r",
          "varRefreshCmd": "cat(var_dic_list()) "
        }
      },
      "types_to_exclude": [
        "module",
        "function",
        "builtin_function_or_method",
        "instance",
        "_Feature"
      ],
      "window_display": false
    }
  },
  "nbformat": 4,
  "nbformat_minor": 0
}